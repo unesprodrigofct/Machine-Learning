{
 "cells": [
  {
   "cell_type": "code",
   "execution_count": 1,
   "metadata": {},
   "outputs": [
    {
     "name": "stderr",
     "output_type": "stream",
     "text": [
      "[nltk_data] Downloading package stopwords to\n",
      "[nltk_data]     C:\\Users\\unesp\\AppData\\Roaming\\nltk_data...\n",
      "[nltk_data]   Package stopwords is already up-to-date!\n"
     ]
    }
   ],
   "source": [
    "import numpy as np \n",
    "import pandas as pd \n",
    "import matplotlib.pyplot as plt\n",
    "import seaborn as sns\n",
    "from sklearn.feature_extraction import text\n",
    "from sklearn.feature_extraction.text import TfidfVectorizer\n",
    "from sklearn.cluster import KMeans\n",
    "from nltk.tokenize import RegexpTokenizer\n",
    "from nltk.stem.snowball import SnowballStemmer\n",
    "#from nltk.tokenize import tokenize\n",
    "%matplotlib inline\n",
    "import re\n",
    "from nltk.corpus import stopwords\n",
    "import nltk\n",
    "nltk.download(\"stopwords\")\n",
    "chachedWords = stopwords.words('english')\n",
    "from nltk.tokenize import WordPunctTokenizer\n",
    "tokenizer = WordPunctTokenizer()\n"
   ]
  },
  {
   "cell_type": "code",
   "execution_count": 2,
   "metadata": {},
   "outputs": [],
   "source": [
    "df = pd.read_csv('./Health-Tweets/goodhealth.txt',names=['col1'])"
   ]
  },
  {
   "cell_type": "code",
   "execution_count": 3,
   "metadata": {},
   "outputs": [],
   "source": [
    "df2 = df.col1.str.extractall(r'(?P<name>[A-Z ]+[A-Z]):(?P<value>[A-Z /]+[A-Z])', flags=re.I)\\\n",
    "    .reset_index(level=1, drop=True)"
   ]
  },
  {
   "cell_type": "code",
   "execution_count": 4,
   "metadata": {},
   "outputs": [
    {
     "data": {
      "text/html": [
       "<div>\n",
       "<style scoped>\n",
       "    .dataframe tbody tr th:only-of-type {\n",
       "        vertical-align: middle;\n",
       "    }\n",
       "\n",
       "    .dataframe tbody tr th {\n",
       "        vertical-align: top;\n",
       "    }\n",
       "\n",
       "    .dataframe thead th {\n",
       "        text-align: right;\n",
       "    }\n",
       "</style>\n",
       "<table border=\"1\" class=\"dataframe\">\n",
       "  <thead>\n",
       "    <tr style=\"text-align: right;\">\n",
       "      <th></th>\n",
       "      <th>name</th>\n",
       "      <th>value</th>\n",
       "      <th>string_value</th>\n",
       "    </tr>\n",
       "  </thead>\n",
       "  <tbody>\n",
       "    <tr>\n",
       "      <th>0</th>\n",
       "      <td>KristinMcGee has an awesome plyometric move yo...</td>\n",
       "      <td>http</td>\n",
       "      <td>KristinMcGee has an awesome plyometric move yo...</td>\n",
       "    </tr>\n",
       "    <tr>\n",
       "      <th>1</th>\n",
       "      <td>mimichatter</td>\n",
       "      <td>http</td>\n",
       "      <td>mimichatter  http</td>\n",
       "    </tr>\n",
       "    <tr>\n",
       "      <th>2</th>\n",
       "      <td>myths and facts you really need to know about...</td>\n",
       "      <td>http</td>\n",
       "      <td>myths and facts you really need to know about...</td>\n",
       "    </tr>\n",
       "    <tr>\n",
       "      <th>3</th>\n",
       "      <td>foods to beat bloat and gas</td>\n",
       "      <td>http</td>\n",
       "      <td>foods to beat bloat and gas  http</td>\n",
       "    </tr>\n",
       "    <tr>\n",
       "      <th>4</th>\n",
       "      <td>Pillow talk</td>\n",
       "      <td>Find the perfect pillow for your p</td>\n",
       "      <td>Pillow talk  Find the perfect pillow for your p</td>\n",
       "    </tr>\n",
       "    <tr>\n",
       "      <th>4</th>\n",
       "      <td>pose with our handy guide</td>\n",
       "      <td>http</td>\n",
       "      <td>pose with our handy guide  http</td>\n",
       "    </tr>\n",
       "    <tr>\n",
       "      <th>5</th>\n",
       "      <td>re sleep deprived</td>\n",
       "      <td>http</td>\n",
       "      <td>re sleep deprived  http</td>\n",
       "    </tr>\n",
       "    <tr>\n",
       "      <th>6</th>\n",
       "      <td>ways to get healthier hair STAT</td>\n",
       "      <td>http</td>\n",
       "      <td>ways to get healthier hair STAT  http</td>\n",
       "    </tr>\n",
       "    <tr>\n",
       "      <th>7</th>\n",
       "      <td>strength training moves</td>\n",
       "      <td>http</td>\n",
       "      <td>strength training moves  http</td>\n",
       "    </tr>\n",
       "    <tr>\n",
       "      <th>8</th>\n",
       "      <td>Find the healthiest food options on the menu ...</td>\n",
       "      <td>http</td>\n",
       "      <td>Find the healthiest food options on the menu ...</td>\n",
       "    </tr>\n",
       "  </tbody>\n",
       "</table>\n",
       "</div>"
      ],
      "text/plain": [
       "                                                name  \\\n",
       "0  KristinMcGee has an awesome plyometric move yo...   \n",
       "1                                        mimichatter   \n",
       "2   myths and facts you really need to know about...   \n",
       "3                        foods to beat bloat and gas   \n",
       "4                                        Pillow talk   \n",
       "4                          pose with our handy guide   \n",
       "5                                  re sleep deprived   \n",
       "6                    ways to get healthier hair STAT   \n",
       "7                            strength training moves   \n",
       "8   Find the healthiest food options on the menu ...   \n",
       "\n",
       "                                 value  \\\n",
       "0                                 http   \n",
       "1                                 http   \n",
       "2                                 http   \n",
       "3                                 http   \n",
       "4   Find the perfect pillow for your p   \n",
       "4                                 http   \n",
       "5                                 http   \n",
       "6                                 http   \n",
       "7                                 http   \n",
       "8                                 http   \n",
       "\n",
       "                                        string_value  \n",
       "0  KristinMcGee has an awesome plyometric move yo...  \n",
       "1                                  mimichatter  http  \n",
       "2   myths and facts you really need to know about...  \n",
       "3                  foods to beat bloat and gas  http  \n",
       "4    Pillow talk  Find the perfect pillow for your p  \n",
       "4                    pose with our handy guide  http  \n",
       "5                            re sleep deprived  http  \n",
       "6              ways to get healthier hair STAT  http  \n",
       "7                      strength training moves  http  \n",
       "8   Find the healthiest food options on the menu ...  "
      ]
     },
     "execution_count": 4,
     "metadata": {},
     "output_type": "execute_result"
    }
   ],
   "source": [
    "df2[\"string_value\"] = df2[\"name\"] +' '+df2[\"value\"]\n",
    "df2.head(10)"
   ]
  },
  {
   "cell_type": "code",
   "execution_count": 5,
   "metadata": {},
   "outputs": [],
   "source": [
    "punc = ['.', ',', '\"', \"'\", '?', '!', ':', ';', '(', ')', '[', ']', '{', '}',\"%\"]\n",
    "stop_words = text.ENGLISH_STOP_WORDS.union(punc)\n",
    "desc = df2['string_value'].values\n",
    "vectorizer = TfidfVectorizer(stop_words = stop_words)\n",
    "X = vectorizer.fit_transform(desc)"
   ]
  },
  {
   "cell_type": "code",
   "execution_count": null,
   "metadata": {},
   "outputs": [],
   "source": []
  },
  {
   "cell_type": "code",
   "execution_count": null,
   "metadata": {},
   "outputs": [],
   "source": []
  },
  {
   "cell_type": "code",
   "execution_count": 6,
   "metadata": {},
   "outputs": [
    {
     "name": "stdout",
     "output_type": "stream",
     "text": [
      "14369\n",
      "['frustrations', 'fry', 'fryman', 'fsunshine', 'ft', 'ftc', 'ftlr', 'fudge', 'fudgy', 'fuel', 'fueled', 'fueling', 'fuels', 'fujian', 'fujifilm', 'fukushima', 'fulfills', 'fuller', 'fully', 'fultonhere', 'fumble', 'fumigated', 'fun', 'function', 'functioning', 'functions', 'fund', 'funded', 'funding', 'fundraising', 'funds', 'funeral', 'fungal', 'fungi', 'fungus', 'funk', 'funky', 'funnies', 'funny', 'furniture', 'furor', 'furry', 'fuss', 'fussy', 'futile', 'future', 'futuristic', 'fuzzy', 'fw', 'fwwfs', 'fxn', 'gabapentin', 'gabrielleglaser', 'gadget', 'gadgets', 'gadsden', 'gaffs', 'gag', 'gaga', 'gaimm', 'gain', 'gaining', 'gains', 'galapagos', 'galette', 'gallop', 'galore', 'gamble', 'gamblers', 'gambling', 'game', 'games', 'gamestop', 'gaming', 'gandalf', 'gandhi', 'gandolfini', 'gang', 'gangs', 'ganta', 'gao', 'gap', 'gaps', 'garcetti', 'garden', 'gardening', 'gardinerharris', 'garlic', 'garner', 'garnish', 'garveylatimes', 'garyschwitzer', 'gas', 'gastric', 'gastro', 'gastroesophageal', 'gastrointestinal', 'gate', 'gates', 'gateses']\n"
     ]
    }
   ],
   "source": [
    "word_features = vectorizer.get_feature_names()\n",
    "print(len(word_features))\n",
    "print(word_features[5000:5100])"
   ]
  },
  {
   "cell_type": "code",
   "execution_count": 20,
   "metadata": {},
   "outputs": [],
   "source": [
    "sentences = [word.lower() for word in desc if re.match('^[a-zA-Z]+', word)]  \n",
    "vectorizer3 = TfidfVectorizer(max_features = 50)\n",
    "X3 = vectorizer3.fit_transform(sentences)\n",
    "words = vectorizer3.get_feature_names()"
   ]
  },
  {
   "cell_type": "code",
   "execution_count": null,
   "metadata": {},
   "outputs": [],
   "source": [
    "corpus_index = [n for n in sentences]\n",
    "import pandas as pd\n",
    "df = pd.DataFrame(X3.T.todense(), index=words, columns=corpus_index)\n",
    "print(df)"
   ]
  },
  {
   "cell_type": "markdown",
   "metadata": {},
   "source": [
    "Definir o Número \"ideal\" de grupos, usando o método Elbow."
   ]
  },
  {
   "cell_type": "code",
   "execution_count": 21,
   "metadata": {},
   "outputs": [
    {
     "data": {
      "image/png": "[encoded data removed]",
      "text/plain": [
       "<Figure size 432x288 with 1 Axes>"
      ]
     },
     "metadata": {
      "needs_background": "light"
     },
     "output_type": "display_data"
    }
   ],
   "source": [
    "from sklearn.cluster import KMeans\n",
    "wcss = []\n",
    "for i in range(1,11):\n",
    "    kmeans = KMeans(n_clusters=i,init='k-means++',max_iter=300,n_init=10,random_state=0)\n",
    "    kmeans.fit(X3)\n",
    "    wcss.append(kmeans.inertia_)\n",
    "plt.plot(range(1,11),wcss)\n",
    "plt.title('The Elbow Method')\n",
    "plt.xlabel('Number of clusters')\n",
    "plt.ylabel('WCSS')\n",
    "plt.savefig('elbow.png')\n",
    "plt.show()"
   ]
  },
  {
   "cell_type": "code",
   "execution_count": 22,
   "metadata": {},
   "outputs": [
    {
     "name": "stderr",
     "output_type": "stream",
     "text": [
      "C:\\ProgramData\\Anaconda3\\lib\\site-packages\\sklearn\\cluster\\_kmeans.py:938: FutureWarning: 'n_jobs' was deprecated in version 0.23 and will be removed in 0.25.\n",
      "  warnings.warn(\"'n_jobs' was deprecated in version 0.23 and will be\"\n"
     ]
    },
    {
     "name": "stdout",
     "output_type": "stream",
     "text": [
      "0 : http, for, in, the, of, reut, nbcnews, well, nyti, health, wp, lat, ebola, may, with, and, new, study, pbs, ow, cancer, from, is, your, risk\n",
      "1 : http, your, fda, is, in, how, help, heart, health, get, from, for, ebola, you, drug, care, cancer, can, be, at, as, are, and, after, it\n",
      "2 : on, http, the, to, reut, ebola, in, health, of, nyti, for, and, nbcnews, new, is, lat, with, your, may, more, drug, study, fda, get, how\n",
      "3 : to, http, reut, in, the, ebola, of, health, for, nyti, how, nbcnews, more, be, lat, study, with, new, may, and, cancer, from, risk, is, well\n"
     ]
    }
   ],
   "source": [
    "kmeans = KMeans(n_clusters = 4, n_init = 20, n_jobs = 1) # n_init(number of iterations for clsutering) n_jobs(number of cpu cores to use)\n",
    "kmeans.fit(X3)\n",
    "# We look at 3 the clusters generated by k-means.\n",
    "common_words = kmeans.cluster_centers_.argsort()[:,-1:-26:-1]\n",
    "for num, centroid in enumerate(common_words):\n",
    "    print(str(num) + ' : ' + ', '.join(words[word] for word in centroid))"
   ]
  },
  {
   "cell_type": "code",
   "execution_count": 17,
   "metadata": {},
   "outputs": [
    {
     "name": "stderr",
     "output_type": "stream",
     "text": [
      "C:\\ProgramData\\Anaconda3\\lib\\site-packages\\sklearn\\cluster\\_kmeans.py:938: FutureWarning: 'n_jobs' was deprecated in version 0.23 and will be removed in 0.25.\n",
      "  warnings.warn(\"'n_jobs' was deprecated in version 0.23 and will be\"\n"
     ]
    },
    {
     "name": "stdout",
     "output_type": "stream",
     "text": [
      "0 : http, for, nbcnews, in, well, of, health, nyti, study, with, and, may, wp, on, bit, ebola, your, you, new, cancer, is, can, more, risk, lat\n",
      "1 : reut, http, ebola, to, in, drug, for, of, may, on, cancer, with, says, study, after, over, stage, as, health, from, million, fda, new, trial, treatment\n",
      "2 : to, the, http, of, in, health, new, for, and, on, how, nyti, your, ebola, well, is, linked, nbcnews, ways, with, you, age, be, old, lat\n",
      "3 : ow, http, fitness, beauty, weightloss, recipes, workout, breakfast, recipeoftheday, fitsugar, summer, calories, healthy, and, salad, chocolate, stress, recipe, goodhealth, depression, free, day, to, study, health\n",
      "4 : http, pbs, nbcnews, wp, yourself, free, food, foods, for, found, four, fresh, from, fruit, fun, future, gain, focus, florida, flu, gear, fix, five, fitsugar, fitness\n",
      "5 : khne, http, obamacare, by, mandate, hhs, gov, law, health, risk, approval, drugs, exchange, hospital, plans, of, ruling, month, jennyagold, dog, threat, deadline, website, for, again\n",
      "6 : nyti, http, and, of, is, with, life, disease, for, in, vaccine, health, the, million, day, patients, risk, your, to, off, rules, virus, report, patient, treatment\n",
      "7 : on, http, the, nbcnews, healthcare, nyti, of, plan, study, and, obamacare, well, for, ebola, reut, to, my, world, hospitals, early, sleep, obesity, still, good, better\n",
      "8 : lat, http, in, for, latkarenkaplan, up, mmacvean, diabetes, the, with, years, disease, study, on, of, company, toll, latest, and, workout, not, brain, california, more, health\n"
     ]
    }
   ],
   "source": [
    "kmeans = KMeans(n_clusters = 9, n_init = 20, n_jobs = 1)\n",
    "kmeans.fit(X3)\n",
    "# We look at 5 the clusters generated by k-means.\n",
    "common_words = kmeans.cluster_centers_.argsort()[:,-1:-26:-1]\n",
    "for num, centroid in enumerate(common_words):\n",
    "    print(str(num) + ' : ' + ', '.join(words[word] for word in centroid))"
   ]
  },
  {
   "cell_type": "code",
   "execution_count": null,
   "metadata": {},
   "outputs": [],
   "source": []
  },
  {
   "cell_type": "code",
   "execution_count": null,
   "metadata": {},
   "outputs": [],
   "source": []
  },
  {
   "cell_type": "code",
   "execution_count": null,
   "metadata": {},
   "outputs": [],
   "source": []
  },
  {
   "cell_type": "code",
   "execution_count": null,
   "metadata": {},
   "outputs": [],
   "source": []
  }
 ],
 "metadata": {
  "kernelspec": {
   "display_name": "Python 3",
   "language": "python",
   "name": "python3"
  },
  "language_info": {
   "codemirror_mode": {
    "name": "ipython",
    "version": 3
   },
   "file_extension": ".py",
   "mimetype": "text/x-python",
   "name": "python",
   "nbconvert_exporter": "python",
   "pygments_lexer": "ipython3",
   "version": "3.8.5"
  }
 },
 "nbformat": 4,
 "nbformat_minor": 4
}
