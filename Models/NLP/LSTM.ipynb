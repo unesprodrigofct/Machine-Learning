{
 "cells": [
  {
   "cell_type": "code",
   "execution_count": 1,
   "metadata": {},
   "outputs": [],
   "source": [
    "import pandas as pd\n",
    "import numpy as np\n",
    "import matplotlib.pyplot as plt\n",
    "import seaborn as sns\n",
    "from sklearn.model_selection import train_test_split\n",
    "from sklearn.preprocessing import LabelEncoder\n",
    "from keras.models import Model\n",
    "from keras.layers import LSTM, Activation, Dense, Dropout, Input, Embedding\n",
    "from keras.optimizers import RMSprop\n",
    "from keras.preprocessing.text import Tokenizer\n",
    "from keras.preprocessing import sequence\n",
    "from keras.utils import to_categorical\n",
    "from keras.callbacks import EarlyStopping\n",
    "from sklearn.metrics import roc_auc_score, roc_curve, auc\n",
    "import tensorflow as tf\n",
    "import re\n",
    "from nltk.corpus import stopwords \n",
    "from sklearn.metrics import roc_auc_score"
   ]
  },
  {
   "cell_type": "code",
   "execution_count": 2,
   "metadata": {},
   "outputs": [
    {
     "data": {
      "text/html": [
       "<div>\n",
       "<style scoped>\n",
       "    .dataframe tbody tr th:only-of-type {\n",
       "        vertical-align: middle;\n",
       "    }\n",
       "\n",
       "    .dataframe tbody tr th {\n",
       "        vertical-align: top;\n",
       "    }\n",
       "\n",
       "    .dataframe thead th {\n",
       "        text-align: right;\n",
       "    }\n",
       "</style>\n",
       "<table border=\"1\" class=\"dataframe\">\n",
       "  <thead>\n",
       "    <tr style=\"text-align: right;\">\n",
       "      <th></th>\n",
       "      <th>rating</th>\n",
       "      <th>date</th>\n",
       "      <th>variation</th>\n",
       "      <th>verified_reviews</th>\n",
       "      <th>feedback</th>\n",
       "    </tr>\n",
       "  </thead>\n",
       "  <tbody>\n",
       "    <tr>\n",
       "      <th>0</th>\n",
       "      <td>5</td>\n",
       "      <td>31-Jul-18</td>\n",
       "      <td>Charcoal Fabric</td>\n",
       "      <td>Love my Echo!</td>\n",
       "      <td>1</td>\n",
       "    </tr>\n",
       "    <tr>\n",
       "      <th>1</th>\n",
       "      <td>5</td>\n",
       "      <td>31-Jul-18</td>\n",
       "      <td>Charcoal Fabric</td>\n",
       "      <td>Loved it!</td>\n",
       "      <td>1</td>\n",
       "    </tr>\n",
       "    <tr>\n",
       "      <th>2</th>\n",
       "      <td>4</td>\n",
       "      <td>31-Jul-18</td>\n",
       "      <td>Walnut Finish</td>\n",
       "      <td>Sometimes while playing a game, you can answer...</td>\n",
       "      <td>1</td>\n",
       "    </tr>\n",
       "    <tr>\n",
       "      <th>3</th>\n",
       "      <td>5</td>\n",
       "      <td>31-Jul-18</td>\n",
       "      <td>Charcoal Fabric</td>\n",
       "      <td>I have had a lot of fun with this thing. My 4 ...</td>\n",
       "      <td>1</td>\n",
       "    </tr>\n",
       "    <tr>\n",
       "      <th>4</th>\n",
       "      <td>5</td>\n",
       "      <td>31-Jul-18</td>\n",
       "      <td>Charcoal Fabric</td>\n",
       "      <td>Music</td>\n",
       "      <td>1</td>\n",
       "    </tr>\n",
       "  </tbody>\n",
       "</table>\n",
       "</div>"
      ],
      "text/plain": [
       "   rating       date         variation  \\\n",
       "0       5  31-Jul-18  Charcoal Fabric    \n",
       "1       5  31-Jul-18  Charcoal Fabric    \n",
       "2       4  31-Jul-18    Walnut Finish    \n",
       "3       5  31-Jul-18  Charcoal Fabric    \n",
       "4       5  31-Jul-18  Charcoal Fabric    \n",
       "\n",
       "                                    verified_reviews  feedback  \n",
       "0                                      Love my Echo!         1  \n",
       "1                                          Loved it!         1  \n",
       "2  Sometimes while playing a game, you can answer...         1  \n",
       "3  I have had a lot of fun with this thing. My 4 ...         1  \n",
       "4                                              Music         1  "
      ]
     },
     "execution_count": 2,
     "metadata": {},
     "output_type": "execute_result"
    }
   ],
   "source": [
    "df = pd.read_csv(\"amazon_alexa.tsv\", header = 0, delimiter = '\\t')\n",
    "\n",
    "#df[\"feedback\"] = np.where(df[\"feedback\"] == 1,'S','N')\n",
    "df.head()"
   ]
  },
  {
   "cell_type": "code",
   "execution_count": 3,
   "metadata": {},
   "outputs": [],
   "source": [
    "df = df.reset_index(drop=True)\n",
    "REPLACE_BY_SPACE_RE = re.compile('[/(){}\\[\\]\\|@,;]')\n",
    "BAD_SYMBOLS_RE = re.compile('[^0-9a-z #+_]')\n",
    "STOPWORDS = set(stopwords.words('english'))\n",
    "\n",
    "def clean_text(text):\n",
    "    \"\"\"\n",
    "        text: a string\n",
    "        \n",
    "        return: modified initial string\n",
    "    \"\"\"\n",
    "    text = text.lower() # lowercase text\n",
    "    text = REPLACE_BY_SPACE_RE.sub(' ', text) # replace REPLACE_BY_SPACE_RE symbols by space in text. substitute the matched string in REPLACE_BY_SPACE_RE with space.\n",
    "    text = BAD_SYMBOLS_RE.sub('', text) # remove symbols which are in BAD_SYMBOLS_RE from text. substitute the matched string in BAD_SYMBOLS_RE with nothing. \n",
    "    text = text.replace('x', '')\n",
    "#    text = re.sub(r'\\W+', '', text)\n",
    "    text = ' '.join(word for word in text.split() if word not in STOPWORDS) # remove stopwors from text\n",
    "    return text\n"
   ]
  },
  {
   "cell_type": "code",
   "execution_count": 4,
   "metadata": {},
   "outputs": [],
   "source": [
    "df['verified_reviews'] = df['verified_reviews'].apply(clean_text)"
   ]
  },
  {
   "cell_type": "code",
   "execution_count": 5,
   "metadata": {},
   "outputs": [],
   "source": [
    "documents = df.verified_reviews\n",
    "target = df.feedback\n",
    "#le = LabelEncoder()\n",
    "#target = le.fit_transform(target)\n",
    "#target = target.reshape(-1,1)"
   ]
  },
  {
   "cell_type": "code",
   "execution_count": 6,
   "metadata": {},
   "outputs": [],
   "source": [
    "X_train,X_test,Y_train,Y_test = train_test_split(documents,target,test_size=0.30)"
   ]
  },
  {
   "cell_type": "code",
   "execution_count": 7,
   "metadata": {},
   "outputs": [],
   "source": [
    "max_words = 1000\n",
    "max_len = 150\n",
    "tok = Tokenizer(num_words=max_words)\n",
    "tok.fit_on_texts(X_train)\n",
    "sequences = tok.texts_to_sequences(X_train)\n",
    "sequences_matrix = sequence.pad_sequences(sequences,maxlen=max_len)"
   ]
  },
  {
   "cell_type": "code",
   "execution_count": 59,
   "metadata": {},
   "outputs": [],
   "source": [
    "def LSTM():\n",
    "    inputs = Input(name='inputs',shape=[max_len])\n",
    "    layer = Embedding(max_words,50,input_length=max_len)(inputs)\n",
    "    layer = LSTM(64)(layer)\n",
    "    layer = Dense(256,name='FC1')(layer)\n",
    "    \n",
    "\n",
    "    layer = Activation('relu')(layer)\n",
    "    layer = Dropout(0.2)(layer)\n",
    "\n",
    "    \n",
    "    layer = Dense(1,name='out_layer')(layer)\n",
    "    layer = Activation('sigmoid')(layer)\n",
    "    model = Model(inputs=inputs,outputs=layer)\n",
    "    return model\n",
    "\n",
    "\n",
    "def auroc(y_true, y_pred):\n",
    "    return tf.py_func(roc_auc_score, (y_true, y_pred), tf.double)\n"
   ]
  },
  {
   "cell_type": "code",
   "execution_count": 49,
   "metadata": {},
   "outputs": [],
   "source": [
    "prob_loss = ['categorical_crossentropy','binary_crossentropy']\n",
    "\n",
    "optimizer=['sgd','adam','adadelta','adagrad','adamax']\n",
    "\n",
    "def compile_run(loss,optimizer,epoch):\n",
    "    tf.keras.backend.clear_session()\n",
    "    model = RNN()\n",
    "    model.compile(loss=loss, \n",
    "                  optimizer=optimizer,\n",
    "                  metrics=[tf.keras.metrics.AUC()])\n",
    "       \n",
    "    \n",
    "    model.fit(sequences_matrix,\n",
    "              Y_train,\n",
    "              batch_size=128,\n",
    "              epochs=epoch,\n",
    "              validation_split=0.1,\n",
    "              callbacks=[EarlyStopping(monitor='val_loss',min_delta = 0.0000000001)])\n",
    "    \n",
    "    return model"
   ]
  },
  {
   "cell_type": "code",
   "execution_count": 41,
   "metadata": {},
   "outputs": [
    {
     "name": "stdout",
     "output_type": "stream",
     "text": [
      "loss:  categorical_crossentropy\n",
      "optimizer:  sgd\n",
      " \n",
      "Epoch 1/10\n",
      "16/16 [==============================] - 5s 182ms/step - loss: 0.0000e+00 - auc: 0.5078 - val_loss: 0.0000e+00 - val_auc: 0.5024\n",
      "Epoch 2/10\n",
      "16/16 [==============================] - 2s 129ms/step - loss: 0.0000e+00 - auc: 0.4974 - val_loss: 0.0000e+00 - val_auc: 0.4952\n",
      " \n",
      " \n",
      "loss:  categorical_crossentropy\n",
      "optimizer:  adam\n",
      " \n",
      "Epoch 1/10\n",
      "16/16 [==============================] - 5s 188ms/step - loss: 0.0000e+00 - auc: 0.4972 - val_loss: 0.0000e+00 - val_auc: 0.2933\n",
      "Epoch 2/10\n",
      "16/16 [==============================] - 2s 142ms/step - loss: 0.0000e+00 - auc: 0.4759 - val_loss: 0.0000e+00 - val_auc: 0.5000\n",
      " \n",
      " \n",
      "loss:  categorical_crossentropy\n",
      "optimizer:  adadelta\n",
      " \n",
      "Epoch 1/10\n",
      "16/16 [==============================] - 5s 203ms/step - loss: 0.0000e+00 - auc: 0.5720 - val_loss: 0.0000e+00 - val_auc: 0.5711\n",
      "Epoch 2/10\n",
      "16/16 [==============================] - 2s 152ms/step - loss: 0.0000e+00 - auc: 0.5509 - val_loss: 0.0000e+00 - val_auc: 0.5638\n",
      " \n",
      " \n",
      "loss:  categorical_crossentropy\n",
      "optimizer:  adagrad\n",
      " \n",
      "Epoch 1/10\n",
      "16/16 [==============================] - 5s 227ms/step - loss: 0.0000e+00 - auc: 0.4945 - val_loss: 0.0000e+00 - val_auc: 0.4802\n",
      "Epoch 2/10\n",
      "16/16 [==============================] - 3s 175ms/step - loss: 0.0000e+00 - auc: 0.4589 - val_loss: 0.0000e+00 - val_auc: 0.3766\n",
      "Epoch 3/10\n",
      "16/16 [==============================] - 3s 176ms/step - loss: 0.0000e+00 - auc: 0.4556 - val_loss: 0.0000e+00 - val_auc: 0.4860\n",
      " \n",
      " \n",
      "loss:  categorical_crossentropy\n",
      "optimizer:  adamax\n",
      " \n",
      "Epoch 1/10\n",
      "16/16 [==============================] - 5s 228ms/step - loss: 0.0000e+00 - auc: 0.4515 - val_loss: 0.0000e+00 - val_auc: 0.3045\n",
      "Epoch 2/10\n",
      "16/16 [==============================] - 3s 176ms/step - loss: 0.0000e+00 - auc: 0.4075 - val_loss: 0.0000e+00 - val_auc: 0.5000\n",
      " \n",
      " \n",
      "loss:  binary_crossentropy\n",
      "optimizer:  sgd\n",
      " \n",
      "Epoch 1/10\n",
      "16/16 [==============================] - 5s 212ms/step - loss: 0.6780 - auc: 0.5400 - val_loss: 0.6337 - val_auc: 0.5048\n",
      "Epoch 2/10\n",
      "16/16 [==============================] - 3s 174ms/step - loss: 0.6215 - auc: 0.5196 - val_loss: 0.5791 - val_auc: 0.4807\n",
      " \n",
      " \n",
      "loss:  binary_crossentropy\n",
      "optimizer:  adam\n",
      " \n",
      "Epoch 1/10\n",
      "16/16 [==============================] - 5s 204ms/step - loss: 0.6289 - auc: 0.5282 - val_loss: 0.2501 - val_auc: 0.7372\n",
      "Epoch 2/10\n",
      "16/16 [==============================] - 3s 159ms/step - loss: 0.2800 - auc: 0.5827 - val_loss: 0.2274 - val_auc: 0.7574\n",
      " \n",
      " \n",
      "loss:  binary_crossentropy\n",
      "optimizer:  adadelta\n",
      " \n",
      "Epoch 1/10\n",
      "16/16 [==============================] - 5s 201ms/step - loss: 0.6932 - auc: 0.5034 - val_loss: 0.6932 - val_auc: 0.5024\n",
      "Epoch 2/10\n",
      "16/16 [==============================] - 2s 158ms/step - loss: 0.6930 - auc: 0.5103 - val_loss: 0.6930 - val_auc: 0.5024\n",
      " \n",
      " \n",
      "loss:  binary_crossentropy\n",
      "optimizer:  adagrad\n",
      " \n",
      "Epoch 1/10\n",
      "16/16 [==============================] - 6s 215ms/step - loss: 0.6905 - auc: 0.5421 - val_loss: 0.6829 - val_auc: 0.5217\n",
      "Epoch 2/10\n",
      "16/16 [==============================] - 3s 165ms/step - loss: 0.6808 - auc: 0.4985 - val_loss: 0.6739 - val_auc: 0.5392\n",
      " \n",
      " \n",
      "loss:  binary_crossentropy\n",
      "optimizer:  adamax\n",
      " \n",
      "Epoch 1/10\n",
      "16/16 [==============================] - 6s 210ms/step - loss: 0.6332 - auc: 0.5288 - val_loss: 0.3065 - val_auc: 0.7070\n",
      "Epoch 2/10\n",
      "16/16 [==============================] - 3s 179ms/step - loss: 0.2786 - auc: 0.5715 - val_loss: 0.2154 - val_auc: 0.7291\n",
      " \n",
      " \n"
     ]
    }
   ],
   "source": [
    "epoch = 10\n",
    "\n",
    "for loss_ in prob_loss:\n",
    "    \n",
    "    for optimizer_ in optimizer:\n",
    "        \n",
    "        print('loss: ',loss_)\n",
    "        print('optimizer: ',optimizer_)\n",
    "        print(' ')\n",
    "\n",
    "        \n",
    "        compile_run(loss_,optimizer_,epoch)\n",
    "            \n",
    "        print(' ')\n",
    "        print(' ')"
   ]
  },
  {
   "cell_type": "code",
   "execution_count": 60,
   "metadata": {},
   "outputs": [
    {
     "ename": "TypeError",
     "evalue": "LSTM() takes 0 positional arguments but 1 was given",
     "output_type": "error",
     "traceback": [
      "\u001b[1;31m---------------------------------------------------------------------------\u001b[0m",
      "\u001b[1;31mTypeError\u001b[0m                                 Traceback (most recent call last)",
      "\u001b[1;32m<ipython-input-60-407456f31574>\u001b[0m in \u001b[0;36m<module>\u001b[1;34m\u001b[0m\n\u001b[1;32m----> 1\u001b[1;33m \u001b[0mmodel\u001b[0m \u001b[1;33m=\u001b[0m \u001b[0mcompile_run\u001b[0m\u001b[1;33m(\u001b[0m\u001b[1;34m'binary_crossentropy'\u001b[0m\u001b[1;33m,\u001b[0m\u001b[1;34m'adam'\u001b[0m\u001b[1;33m,\u001b[0m\u001b[1;36m5\u001b[0m\u001b[1;33m)\u001b[0m\u001b[1;33m\u001b[0m\u001b[1;33m\u001b[0m\u001b[0m\n\u001b[0m",
      "\u001b[1;32m<ipython-input-49-6a94590149ab>\u001b[0m in \u001b[0;36mcompile_run\u001b[1;34m(loss, optimizer, epoch)\u001b[0m\n\u001b[0;32m      5\u001b[0m \u001b[1;32mdef\u001b[0m \u001b[0mcompile_run\u001b[0m\u001b[1;33m(\u001b[0m\u001b[0mloss\u001b[0m\u001b[1;33m,\u001b[0m\u001b[0moptimizer\u001b[0m\u001b[1;33m,\u001b[0m\u001b[0mepoch\u001b[0m\u001b[1;33m)\u001b[0m\u001b[1;33m:\u001b[0m\u001b[1;33m\u001b[0m\u001b[1;33m\u001b[0m\u001b[0m\n\u001b[0;32m      6\u001b[0m     \u001b[0mtf\u001b[0m\u001b[1;33m.\u001b[0m\u001b[0mkeras\u001b[0m\u001b[1;33m.\u001b[0m\u001b[0mbackend\u001b[0m\u001b[1;33m.\u001b[0m\u001b[0mclear_session\u001b[0m\u001b[1;33m(\u001b[0m\u001b[1;33m)\u001b[0m\u001b[1;33m\u001b[0m\u001b[1;33m\u001b[0m\u001b[0m\n\u001b[1;32m----> 7\u001b[1;33m     \u001b[0mmodel\u001b[0m \u001b[1;33m=\u001b[0m \u001b[0mRNN\u001b[0m\u001b[1;33m(\u001b[0m\u001b[1;33m)\u001b[0m\u001b[1;33m\u001b[0m\u001b[1;33m\u001b[0m\u001b[0m\n\u001b[0m\u001b[0;32m      8\u001b[0m     model.compile(loss=loss, \n\u001b[0;32m      9\u001b[0m                   \u001b[0moptimizer\u001b[0m\u001b[1;33m=\u001b[0m\u001b[0moptimizer\u001b[0m\u001b[1;33m,\u001b[0m\u001b[1;33m\u001b[0m\u001b[1;33m\u001b[0m\u001b[0m\n",
      "\u001b[1;32m<ipython-input-36-f980b2b9680a>\u001b[0m in \u001b[0;36mRNN\u001b[1;34m()\u001b[0m\n\u001b[0;32m      2\u001b[0m     \u001b[0minputs\u001b[0m \u001b[1;33m=\u001b[0m \u001b[0mInput\u001b[0m\u001b[1;33m(\u001b[0m\u001b[0mname\u001b[0m\u001b[1;33m=\u001b[0m\u001b[1;34m'inputs'\u001b[0m\u001b[1;33m,\u001b[0m\u001b[0mshape\u001b[0m\u001b[1;33m=\u001b[0m\u001b[1;33m[\u001b[0m\u001b[0mmax_len\u001b[0m\u001b[1;33m]\u001b[0m\u001b[1;33m)\u001b[0m\u001b[1;33m\u001b[0m\u001b[1;33m\u001b[0m\u001b[0m\n\u001b[0;32m      3\u001b[0m     \u001b[0mlayer\u001b[0m \u001b[1;33m=\u001b[0m \u001b[0mEmbedding\u001b[0m\u001b[1;33m(\u001b[0m\u001b[0mmax_words\u001b[0m\u001b[1;33m,\u001b[0m\u001b[1;36m50\u001b[0m\u001b[1;33m,\u001b[0m\u001b[0minput_length\u001b[0m\u001b[1;33m=\u001b[0m\u001b[0mmax_len\u001b[0m\u001b[1;33m)\u001b[0m\u001b[1;33m(\u001b[0m\u001b[0minputs\u001b[0m\u001b[1;33m)\u001b[0m\u001b[1;33m\u001b[0m\u001b[1;33m\u001b[0m\u001b[0m\n\u001b[1;32m----> 4\u001b[1;33m     \u001b[0mlayer\u001b[0m \u001b[1;33m=\u001b[0m \u001b[0mLSTM\u001b[0m\u001b[1;33m(\u001b[0m\u001b[1;36m64\u001b[0m\u001b[1;33m)\u001b[0m\u001b[1;33m(\u001b[0m\u001b[0mlayer\u001b[0m\u001b[1;33m)\u001b[0m\u001b[1;33m\u001b[0m\u001b[1;33m\u001b[0m\u001b[0m\n\u001b[0m\u001b[0;32m      5\u001b[0m     \u001b[0mlayer\u001b[0m \u001b[1;33m=\u001b[0m \u001b[0mDense\u001b[0m\u001b[1;33m(\u001b[0m\u001b[1;36m256\u001b[0m\u001b[1;33m,\u001b[0m\u001b[0mname\u001b[0m\u001b[1;33m=\u001b[0m\u001b[1;34m'FC1'\u001b[0m\u001b[1;33m)\u001b[0m\u001b[1;33m(\u001b[0m\u001b[0mlayer\u001b[0m\u001b[1;33m)\u001b[0m\u001b[1;33m\u001b[0m\u001b[1;33m\u001b[0m\u001b[0m\n\u001b[0;32m      6\u001b[0m     \u001b[0mlayer\u001b[0m \u001b[1;33m=\u001b[0m \u001b[0mActivation\u001b[0m\u001b[1;33m(\u001b[0m\u001b[1;34m'relu'\u001b[0m\u001b[1;33m)\u001b[0m\u001b[1;33m(\u001b[0m\u001b[0mlayer\u001b[0m\u001b[1;33m)\u001b[0m\u001b[1;33m\u001b[0m\u001b[1;33m\u001b[0m\u001b[0m\n",
      "\u001b[1;31mTypeError\u001b[0m: LSTM() takes 0 positional arguments but 1 was given"
     ]
    }
   ],
   "source": [
    "modecompile_run('binary_crossentropy','adam',2)"
   ]
  },
  {
   "cell_type": "code",
   "execution_count": 51,
   "metadata": {},
   "outputs": [],
   "source": [
    "sequences_test = tok.texts_to_sequences(X_test)\n",
    "sequences_matrix_test = sequence.pad_sequences(sequences_test,maxlen=max_len)"
   ]
  },
  {
   "cell_type": "code",
   "execution_count": 52,
   "metadata": {},
   "outputs": [],
   "source": [
    "ynew = model.predict(sequences_matrix_test)"
   ]
  },
  {
   "cell_type": "code",
   "execution_count": 54,
   "metadata": {},
   "outputs": [
    {
     "data": {
      "image/png": "[encoded data removed]",
      "text/plain": [
       "<Figure size 432x288 with 1 Axes>"
      ]
     },
     "metadata": {
      "needs_background": "light"
     },
     "output_type": "display_data"
    }
   ],
   "source": [
    " # Plot AUC Curve\n",
    "    \n",
    "fpr, tpr, threshold = roc_curve(Y_test, ynew)\n",
    "roc_auc = auc(fpr, tpr)\n",
    "\n",
    "plt.title('Receiver Operating Characteristic (ROC) Curve ')\n",
    "plt.plot(fpr, tpr, color='darkorange', label = 'ROC AUC = %0.4f' % roc_auc)\n",
    "plt.legend(loc = 'lower right')\n",
    "plt.plot([0, 1], [0, 1], color='navy', lw=2, linestyle='--')\n",
    "plt.xlim([-0.01, 1])\n",
    "plt.ylim([0, 1.05])\n",
    "\n",
    "plt.ylabel('True Positive Rate')\n",
    "plt.xlabel('False Positive Rate')\n",
    "plt.show()"
   ]
  },
  {
   "cell_type": "code",
   "execution_count": null,
   "metadata": {},
   "outputs": [],
   "source": [
    "def plot_confusion_matrix(y_test, y_proba_predicted):\n",
    "    \"\"\"\n",
    "    Plot confusion matrix for a given values of y_test, y_proba_predicted, and threshold\n",
    "    \"\"\"\n",
    "    cm = confusion_matrix(y_test, y_proba_predicted.astype(int))\n",
    "    classes = ['Neg', 'Pos']\n",
    "\n",
    "    plt.imshow(cm, interpolation='nearest', cmap=plt.cm.Blues)\n",
    "    plt.title('Confusion matrix')\n",
    "    tick_marks = np.arange(len(classes))\n",
    "    plt.xticks(tick_marks, classes)\n",
    "    plt.yticks(tick_marks, classes)\n",
    "\n",
    "    thresh = cm.max() / 2.\n",
    "    for i, j in itertools.product(range(cm.shape[0]), range(cm.shape[1])):\n",
    "        plt.text(j, i, format(cm[i, j], 'd'),\n",
    "                 horizontalalignment=\"center\",\n",
    "                 color=\"white\" if cm[i, j] > thresh else \"black\")\n",
    "\n",
    "    plt.ylabel('True label')\n",
    "    plt.xlabel('Predicted label')\n",
    "    plt.tight_layout()\n",
    "    plt.show()"
   ]
  },
  {
   "cell_type": "code",
   "execution_count": null,
   "metadata": {},
   "outputs": [],
   "source": [
    "\n",
    "plot_confusion_matrix(Y_test,y_pred,0.3)  "
   ]
  },
  {
   "cell_type": "code",
   "execution_count": null,
   "metadata": {},
   "outputs": [],
   "source": []
  },
  {
   "cell_type": "code",
   "execution_count": null,
   "metadata": {},
   "outputs": [],
   "source": []
  },
  {
   "cell_type": "code",
   "execution_count": null,
   "metadata": {},
   "outputs": [],
   "source": []
  },
  {
   "cell_type": "code",
   "execution_count": null,
   "metadata": {},
   "outputs": [],
   "source": []
  }
 ],
 "metadata": {
  "kernelspec": {
   "display_name": "Python 3",
   "language": "python",
   "name": "python3"
  },
  "language_info": {
   "codemirror_mode": {
    "name": "ipython",
    "version": 3
   },
   "file_extension": ".py",
   "mimetype": "text/x-python",
   "name": "python",
   "nbconvert_exporter": "python",
   "pygments_lexer": "ipython3",
   "version": "3.8.5"
  }
 },
 "nbformat": 4,
 "nbformat_minor": 4
}
