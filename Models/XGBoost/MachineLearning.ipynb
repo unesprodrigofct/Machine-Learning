{
 "cells": [
  {
   "cell_type": "markdown",
   "metadata": {},
   "source": [
    "## Metodologia de Desenvolvimento\n",
    "\n",
    "### Step by Step \n",
    "\n",
    "#####  1. Transformação das variaveis categóricas com 3 ou mais categorias usando o Weight of Evidence (WOE)\n",
    "\n",
    "        OBS: O Desenvolvimento dessa transformação foi no SQL.\n",
    "\n",
    "##### 2. As variaveis binárias com apenas 2 categorias, foi criado colunas binarizadas para elas.\n",
    "\n",
    "        OBS: O Desenvolvimento dessa transformação foi no SQL.\n",
    "\n",
    "##### 3. As variaveis com Information Values < 0.10 foi descartada, pois não possui efeito significativo para a variavel resposta, segundo a metodologia do WOE.\n",
    "\n",
    "##### 4. Descartar as variaveis com baixa variância \n",
    "\n",
    "##### 5. Descarta as Variaveis com Alto Correlação\n",
    "\n",
    "\n",
    "##### 7. 70% da base foi usado para treinamento do modelo\n",
    "\n",
    "        7.1 Algoritmo: Xgboost\n",
    "        7.2 Parametros do Xgboost por Grid Search.\n",
    "        7.3 Metodologia de Treino Kfolds com k igual a 5\n",
    "\n",
    "##### 6. Balaceamento Amostral (1:1) \n",
    "\n",
    "        OBS: O Balanceamento é aplicado apenas na base de treino.\n",
    "\n",
    "##### 8. 30% da base foi separado para realizar a validação do modelo com as métricas: \n",
    "\n",
    "        8.1 ROC\n",
    "        8.2 KS\n",
    "        8.3 Recall\n",
    "        8.4 Gráfico da distribuição da probabilidade (Score)\n",
    "        8.5 Matriz de Confusão\n",
    "    \n",
    "  \n",
    "### variaveis\n",
    "\n",
    "\n",
    "     age:         Int \t\n",
    "     job:         Category   \t\n",
    "     marital:     Category \t\n",
    "     education:   Category \n",
    "     default:     Category \n",
    "     balance:     numeric\n",
    "     housing:     Yes or No\n",
    "     loan:        Yes or No\n",
    "     contact:     Category \n",
    "     day:         Int\n",
    "     month:       Category \n",
    "     duration:    numeric\n",
    "     campaign:    int\n",
    "     pdays:       int\n",
    "     previous:    int\n",
    "     poutcome:    Category \n",
    "     y:           Target"
   ]
  },
  {
   "cell_type": "code",
   "execution_count": 1,
   "metadata": {},
   "outputs": [],
   "source": [
    "import pandas as pd\n",
    "from  datetime import datetime\n",
    "import itertools\n",
    "import pickle\n",
    "import numpy as np\n",
    "import xgboost as xgb\n",
    "from sklearn import preprocessing\n",
    "from sklearn.model_selection import train_test_split\n",
    "from sklearn.model_selection import *\n",
    "from sklearn.model_selection import GridSearchCV\n",
    "import time\n",
    "from scipy.stats import ks_2samp\n",
    "import sklearn.metrics as mt\n",
    "from matplotlib import pyplot as plt\n",
    "from xgboost import plot_importance\n",
    "import seaborn as sns\n",
    "import pyodbc\n",
    "from sklearn import preprocessing as preprocessing \n",
    "from sklearn.feature_selection import VarianceThreshold\n",
    "from sklearn.metrics import roc_auc_score\n",
    "from sklearn.metrics import recall_score\n",
    "from sklearn.metrics import precision_score\n",
    "from sklearn.metrics import precision_recall_curve\n",
    "import matplotlib.pyplot as plt\n",
    "from sklearn.utils.fixes import signature\n",
    "from sklearn.metrics import accuracy_score, precision_score, recall_score, confusion_matrix, \\\n",
    "                            roc_curve, precision_recall_curve, auc, average_precision_score"
   ]
  },
  {
   "cell_type": "code",
   "execution_count": 2,
   "metadata": {},
   "outputs": [],
   "source": [
    "# load data\n",
    "                            \n",
    "driver   = '{SQL Server}'\n",
    "server   = 'localhost\\SQLEXPRESS'\n",
    "database = 'Pos_Grauacao'\n",
    "connection = pyodbc.connect('DRIVER='+driver+';SERVER='+server+';Database='+database+';Trusted_Connection=yes;')\n",
    "cursor = connection.cursor()\n",
    "select_string= \"\"\" SELECT * FROM BASE_MODELO_FINAL_HISTORICO\"\"\" \n",
    "df = pd.read_sql(select_string,connection)"
   ]
  },
  {
   "cell_type": "code",
   "execution_count": 3,
   "metadata": {},
   "outputs": [
    {
     "data": {
      "text/html": [
       "<div>\n",
       "<style scoped>\n",
       "    .dataframe tbody tr th:only-of-type {\n",
       "        vertical-align: middle;\n",
       "    }\n",
       "\n",
       "    .dataframe tbody tr th {\n",
       "        vertical-align: top;\n",
       "    }\n",
       "\n",
       "    .dataframe thead th {\n",
       "        text-align: right;\n",
       "    }\n",
       "</style>\n",
       "<table border=\"1\" class=\"dataframe\">\n",
       "  <thead>\n",
       "    <tr style=\"text-align: right;\">\n",
       "      <th></th>\n",
       "      <th>costumer_ID</th>\n",
       "      <th>y</th>\n",
       "      <th>age</th>\n",
       "      <th>job_WOE</th>\n",
       "      <th>default_Yes</th>\n",
       "      <th>default_No</th>\n",
       "      <th>balance</th>\n",
       "      <th>housing_Yes</th>\n",
       "      <th>housing_No</th>\n",
       "      <th>loan_Yes</th>\n",
       "      <th>loan_No</th>\n",
       "      <th>day</th>\n",
       "      <th>contact_WOE</th>\n",
       "      <th>month_WOE</th>\n",
       "      <th>duration</th>\n",
       "      <th>campaign</th>\n",
       "      <th>pdays</th>\n",
       "      <th>previous</th>\n",
       "      <th>poutcome_WOE</th>\n",
       "    </tr>\n",
       "  </thead>\n",
       "  <tbody>\n",
       "    <tr>\n",
       "      <th>0</th>\n",
       "      <td>1</td>\n",
       "      <td>0</td>\n",
       "      <td>58</td>\n",
       "      <td>-0.185555</td>\n",
       "      <td>0</td>\n",
       "      <td>1</td>\n",
       "      <td>2143.0</td>\n",
       "      <td>1</td>\n",
       "      <td>0</td>\n",
       "      <td>0</td>\n",
       "      <td>1</td>\n",
       "      <td>5.0</td>\n",
       "      <td>1.138508</td>\n",
       "      <td>0.609306</td>\n",
       "      <td>261.0</td>\n",
       "      <td>1</td>\n",
       "      <td>-1</td>\n",
       "      <td>0</td>\n",
       "      <td>0.272775</td>\n",
       "    </tr>\n",
       "    <tr>\n",
       "      <th>1</th>\n",
       "      <td>2</td>\n",
       "      <td>0</td>\n",
       "      <td>44</td>\n",
       "      <td>0.063634</td>\n",
       "      <td>0</td>\n",
       "      <td>1</td>\n",
       "      <td>29.0</td>\n",
       "      <td>1</td>\n",
       "      <td>0</td>\n",
       "      <td>0</td>\n",
       "      <td>1</td>\n",
       "      <td>5.0</td>\n",
       "      <td>1.138508</td>\n",
       "      <td>0.609306</td>\n",
       "      <td>151.0</td>\n",
       "      <td>1</td>\n",
       "      <td>-1</td>\n",
       "      <td>0</td>\n",
       "      <td>0.272775</td>\n",
       "    </tr>\n",
       "    <tr>\n",
       "      <th>2</th>\n",
       "      <td>3</td>\n",
       "      <td>0</td>\n",
       "      <td>33</td>\n",
       "      <td>0.384694</td>\n",
       "      <td>0</td>\n",
       "      <td>1</td>\n",
       "      <td>2.0</td>\n",
       "      <td>1</td>\n",
       "      <td>0</td>\n",
       "      <td>1</td>\n",
       "      <td>0</td>\n",
       "      <td>5.0</td>\n",
       "      <td>1.138508</td>\n",
       "      <td>0.609306</td>\n",
       "      <td>76.0</td>\n",
       "      <td>1</td>\n",
       "      <td>-1</td>\n",
       "      <td>0</td>\n",
       "      <td>0.272775</td>\n",
       "    </tr>\n",
       "    <tr>\n",
       "      <th>3</th>\n",
       "      <td>4</td>\n",
       "      <td>0</td>\n",
       "      <td>47</td>\n",
       "      <td>0.523900</td>\n",
       "      <td>0</td>\n",
       "      <td>1</td>\n",
       "      <td>1506.0</td>\n",
       "      <td>1</td>\n",
       "      <td>0</td>\n",
       "      <td>0</td>\n",
       "      <td>1</td>\n",
       "      <td>5.0</td>\n",
       "      <td>1.138508</td>\n",
       "      <td>0.609306</td>\n",
       "      <td>92.0</td>\n",
       "      <td>1</td>\n",
       "      <td>-1</td>\n",
       "      <td>0</td>\n",
       "      <td>0.272775</td>\n",
       "    </tr>\n",
       "    <tr>\n",
       "      <th>4</th>\n",
       "      <td>5</td>\n",
       "      <td>0</td>\n",
       "      <td>33</td>\n",
       "      <td>-0.010325</td>\n",
       "      <td>0</td>\n",
       "      <td>1</td>\n",
       "      <td>1.0</td>\n",
       "      <td>0</td>\n",
       "      <td>1</td>\n",
       "      <td>0</td>\n",
       "      <td>1</td>\n",
       "      <td>5.0</td>\n",
       "      <td>1.138508</td>\n",
       "      <td>0.609306</td>\n",
       "      <td>198.0</td>\n",
       "      <td>1</td>\n",
       "      <td>-1</td>\n",
       "      <td>0</td>\n",
       "      <td>0.272775</td>\n",
       "    </tr>\n",
       "    <tr>\n",
       "      <th>5</th>\n",
       "      <td>6</td>\n",
       "      <td>0</td>\n",
       "      <td>35</td>\n",
       "      <td>-0.185555</td>\n",
       "      <td>0</td>\n",
       "      <td>1</td>\n",
       "      <td>231.0</td>\n",
       "      <td>1</td>\n",
       "      <td>0</td>\n",
       "      <td>0</td>\n",
       "      <td>1</td>\n",
       "      <td>5.0</td>\n",
       "      <td>1.138508</td>\n",
       "      <td>0.609306</td>\n",
       "      <td>139.0</td>\n",
       "      <td>1</td>\n",
       "      <td>-1</td>\n",
       "      <td>0</td>\n",
       "      <td>0.272775</td>\n",
       "    </tr>\n",
       "    <tr>\n",
       "      <th>6</th>\n",
       "      <td>7</td>\n",
       "      <td>0</td>\n",
       "      <td>28</td>\n",
       "      <td>-0.185555</td>\n",
       "      <td>0</td>\n",
       "      <td>1</td>\n",
       "      <td>447.0</td>\n",
       "      <td>1</td>\n",
       "      <td>0</td>\n",
       "      <td>1</td>\n",
       "      <td>0</td>\n",
       "      <td>5.0</td>\n",
       "      <td>1.138508</td>\n",
       "      <td>0.609306</td>\n",
       "      <td>217.0</td>\n",
       "      <td>1</td>\n",
       "      <td>-1</td>\n",
       "      <td>0</td>\n",
       "      <td>0.272775</td>\n",
       "    </tr>\n",
       "    <tr>\n",
       "      <th>7</th>\n",
       "      <td>8</td>\n",
       "      <td>0</td>\n",
       "      <td>42</td>\n",
       "      <td>0.384694</td>\n",
       "      <td>1</td>\n",
       "      <td>0</td>\n",
       "      <td>2.0</td>\n",
       "      <td>1</td>\n",
       "      <td>0</td>\n",
       "      <td>0</td>\n",
       "      <td>1</td>\n",
       "      <td>5.0</td>\n",
       "      <td>1.138508</td>\n",
       "      <td>0.609306</td>\n",
       "      <td>380.0</td>\n",
       "      <td>1</td>\n",
       "      <td>-1</td>\n",
       "      <td>0</td>\n",
       "      <td>0.272775</td>\n",
       "    </tr>\n",
       "    <tr>\n",
       "      <th>8</th>\n",
       "      <td>9</td>\n",
       "      <td>0</td>\n",
       "      <td>58</td>\n",
       "      <td>-0.801178</td>\n",
       "      <td>0</td>\n",
       "      <td>1</td>\n",
       "      <td>121.0</td>\n",
       "      <td>1</td>\n",
       "      <td>0</td>\n",
       "      <td>0</td>\n",
       "      <td>1</td>\n",
       "      <td>5.0</td>\n",
       "      <td>1.138508</td>\n",
       "      <td>0.609306</td>\n",
       "      <td>50.0</td>\n",
       "      <td>1</td>\n",
       "      <td>-1</td>\n",
       "      <td>0</td>\n",
       "      <td>0.272775</td>\n",
       "    </tr>\n",
       "    <tr>\n",
       "      <th>9</th>\n",
       "      <td>10</td>\n",
       "      <td>0</td>\n",
       "      <td>43</td>\n",
       "      <td>0.063634</td>\n",
       "      <td>0</td>\n",
       "      <td>1</td>\n",
       "      <td>593.0</td>\n",
       "      <td>1</td>\n",
       "      <td>0</td>\n",
       "      <td>0</td>\n",
       "      <td>1</td>\n",
       "      <td>5.0</td>\n",
       "      <td>1.138508</td>\n",
       "      <td>0.609306</td>\n",
       "      <td>55.0</td>\n",
       "      <td>1</td>\n",
       "      <td>-1</td>\n",
       "      <td>0</td>\n",
       "      <td>0.272775</td>\n",
       "    </tr>\n",
       "  </tbody>\n",
       "</table>\n",
       "</div>"
      ],
      "text/plain": [
       "  costumer_ID  y  age   job_WOE  default_Yes  default_No  balance  \\\n",
       "0           1  0   58 -0.185555            0           1   2143.0   \n",
       "1           2  0   44  0.063634            0           1     29.0   \n",
       "2           3  0   33  0.384694            0           1      2.0   \n",
       "3           4  0   47  0.523900            0           1   1506.0   \n",
       "4           5  0   33 -0.010325            0           1      1.0   \n",
       "5           6  0   35 -0.185555            0           1    231.0   \n",
       "6           7  0   28 -0.185555            0           1    447.0   \n",
       "7           8  0   42  0.384694            1           0      2.0   \n",
       "8           9  0   58 -0.801178            0           1    121.0   \n",
       "9          10  0   43  0.063634            0           1    593.0   \n",
       "\n",
       "   housing_Yes  housing_No  loan_Yes  loan_No  day  contact_WOE  month_WOE  \\\n",
       "0            1           0         0        1  5.0     1.138508   0.609306   \n",
       "1            1           0         0        1  5.0     1.138508   0.609306   \n",
       "2            1           0         1        0  5.0     1.138508   0.609306   \n",
       "3            1           0         0        1  5.0     1.138508   0.609306   \n",
       "4            0           1         0        1  5.0     1.138508   0.609306   \n",
       "5            1           0         0        1  5.0     1.138508   0.609306   \n",
       "6            1           0         1        0  5.0     1.138508   0.609306   \n",
       "7            1           0         0        1  5.0     1.138508   0.609306   \n",
       "8            1           0         0        1  5.0     1.138508   0.609306   \n",
       "9            1           0         0        1  5.0     1.138508   0.609306   \n",
       "\n",
       "   duration  campaign  pdays  previous  poutcome_WOE  \n",
       "0     261.0         1     -1         0      0.272775  \n",
       "1     151.0         1     -1         0      0.272775  \n",
       "2      76.0         1     -1         0      0.272775  \n",
       "3      92.0         1     -1         0      0.272775  \n",
       "4     198.0         1     -1         0      0.272775  \n",
       "5     139.0         1     -1         0      0.272775  \n",
       "6     217.0         1     -1         0      0.272775  \n",
       "7     380.0         1     -1         0      0.272775  \n",
       "8      50.0         1     -1         0      0.272775  \n",
       "9      55.0         1     -1         0      0.272775  "
      ]
     },
     "execution_count": 3,
     "metadata": {},
     "output_type": "execute_result"
    }
   ],
   "source": [
    "df_QA = df\n",
    "features = list(df_QA.columns[2:])\n",
    "\n",
    "df_QA.head(10)"
   ]
  },
  {
   "cell_type": "code",
   "execution_count": 4,
   "metadata": {},
   "outputs": [],
   "source": [
    "## Removendo as Variaveis com Baixa Variância\n",
    "\n",
    "variable_names = []\n",
    "\n",
    "Selector = VarianceThreshold(threshold = 0.07)\n",
    "Selector.fit(df_QA[features])\n",
    " \n",
    "for x in range(0, len(df_QA[features].columns)):\n",
    "    if(Selector.get_support()[x] == False):\n",
    "        variable_names.append(df_QA[features].columns[x])"
   ]
  },
  {
   "cell_type": "code",
   "execution_count": 5,
   "metadata": {},
   "outputs": [
    {
     "data": {
      "text/plain": [
       "set()"
      ]
     },
     "execution_count": 5,
     "metadata": {},
     "output_type": "execute_result"
    }
   ],
   "source": [
    "### Removendo Variaveis por Autocorrelação \n",
    "\n",
    "features_col = list(df_QA.columns[2:])\n",
    "    \n",
    "variaveis = set()\n",
    "\n",
    "correlation_matrix = df_QA[features_col].corr()\n",
    "\n",
    "for i in range(correlation_matrix.shape[0]):\n",
    "        for j in range(i+1):\n",
    "            if( abs(correlation_matrix.iloc[i,j]) >= 0.9 and abs(correlation_matrix.iloc[i,j]) < 1 ):\n",
    "                if(correlation_matrix.columns[j] not in variaveis):\n",
    "                    variaveis.add(correlation_matrix.columns[j])\n",
    "                    \n",
    "variaveis"
   ]
  },
  {
   "cell_type": "code",
   "execution_count": 6,
   "metadata": {},
   "outputs": [],
   "source": [
    "df_QA = df_QA.drop(variaveis,axis = 1)\n",
    "df_QA = df_QA.drop(variable_names,axis = 1)\n",
    "features_final = list(df_QA.columns[2:])"
   ]
  },
  {
   "cell_type": "code",
   "execution_count": 7,
   "metadata": {},
   "outputs": [],
   "source": [
    "X_train, X_test = train_test_split(df_QA, test_size=0.3, random_state=int(time.time()))"
   ]
  },
  {
   "cell_type": "code",
   "execution_count": 8,
   "metadata": {},
   "outputs": [],
   "source": [
    "## Balanceamento Amostral\n",
    "\n",
    "df_target = X_train[X_train.y == 1]\n",
    "df_x = X_train[X_train.y == 0].sample(len(df_target))\n",
    "X_train = pd.concat([df_target,df_x],axis = 0)\n",
    "X_train = X_train.sample(len(X_train))"
   ]
  },
  {
   "cell_type": "code",
   "execution_count": 9,
   "metadata": {},
   "outputs": [],
   "source": [
    "parameters = {'nthread':[10], #when use hyperthread, xgboost may become slower\n",
    "              'objective':['binary:logistic'],\n",
    "              'learning_rate': [0.05,0.6], #so called `eta` value\n",
    "              'max_depth': [6,30],\n",
    "              'min_child_weight': [11,30],\n",
    "              'silent': [1],\n",
    "              'subsample': [0.4,0.7],\n",
    "              'colsample_bytree': [0.5,0.7],\n",
    "              'n_estimators': [100], #number of trees, change it to 1000 for better results\n",
    "              'missing':[-999],\n",
    "              'seed': [1337]}\n"
   ]
  },
  {
   "cell_type": "code",
   "execution_count": 10,
   "metadata": {},
   "outputs": [
    {
     "name": "stdout",
     "output_type": "stream",
     "text": [
      "Fitting 5 folds for each of 32 candidates, totalling 160 fits\n"
     ]
    },
    {
     "name": "stderr",
     "output_type": "stream",
     "text": [
      "[Parallel(n_jobs=2)]: Using backend LokyBackend with 2 concurrent workers.\n",
      "[Parallel(n_jobs=2)]: Done  46 tasks      | elapsed:   22.2s\n",
      "[Parallel(n_jobs=2)]: Done 160 out of 160 | elapsed:  1.2min finished\n"
     ]
    },
    {
     "data": {
      "text/plain": [
       "GridSearchCV(cv=5, error_score='raise-deprecating',\n",
       "       estimator=XGBClassifier(base_score=0.5, booster='gbtree', colsample_bylevel=1,\n",
       "       colsample_bytree=1, gamma=0, learning_rate=0.1, max_delta_step=0,\n",
       "       max_depth=3, min_child_weight=1, missing=None, n_estimators=100,\n",
       "       n_jobs=1, nthread=None, objective='binary:logistic', random_state=0,\n",
       "       reg_alpha=0, reg_lambda=1, scale_pos_weight=1, seed=None,\n",
       "       silent=True, subsample=1),\n",
       "       fit_params=None, iid='warn', n_jobs=2,\n",
       "       param_grid={'nthread': [10], 'objective': ['binary:logistic'], 'learning_rate': [0.05, 0.6], 'max_depth': [6, 30], 'min_child_weight': [11, 30], 'silent': [1], 'subsample': [0.4, 0.7], 'colsample_bytree': [0.5, 0.7], 'n_estimators': [100], 'missing': [-999], 'seed': [1337]},\n",
       "       pre_dispatch='2*n_jobs', refit=True, return_train_score='warn',\n",
       "       scoring='roc_auc', verbose=1)"
      ]
     },
     "execution_count": 10,
     "metadata": {},
     "output_type": "execute_result"
    }
   ],
   "source": [
    "xgb_model = xgb.XGBClassifier()\n",
    "clf = GridSearchCV(xgb_model, parameters, n_jobs=2, \n",
    "                   cv=5, \n",
    "                   scoring='roc_auc',\n",
    "                   verbose=1, refit=True)\n",
    "clf.fit(X_train[features_final], X_train[\"y\"])     "
   ]
  },
  {
   "cell_type": "code",
   "execution_count": 11,
   "metadata": {},
   "outputs": [
    {
     "name": "stderr",
     "output_type": "stream",
     "text": [
      "C:\\Users\\rsilva\\AppData\\Local\\Continuum\\anaconda3\\lib\\site-packages\\ipykernel_launcher.py:1: SettingWithCopyWarning: \n",
      "A value is trying to be set on a copy of a slice from a DataFrame.\n",
      "Try using .loc[row_indexer,col_indexer] = value instead\n",
      "\n",
      "See the caveats in the documentation: http://pandas.pydata.org/pandas-docs/stable/indexing.html#indexing-view-versus-copy\n",
      "  \"\"\"Entry point for launching an IPython kernel.\n"
     ]
    }
   ],
   "source": [
    "X_test['Score'] = clf.predict_proba(X_test[features_final])[:,1]\n",
    "X_train['Score'] = clf.predict_proba(X_train[features_final])[:,1]"
   ]
  },
  {
   "cell_type": "code",
   "execution_count": 12,
   "metadata": {},
   "outputs": [],
   "source": [
    "df_label  = X_test.loc[X_test['y'] == 1]\n",
    "df_X  = X_test.loc[X_test['y'] == 0]"
   ]
  },
  {
   "cell_type": "code",
   "execution_count": 13,
   "metadata": {},
   "outputs": [],
   "source": [
    "np.random.seed(12345678)\n"
   ]
  },
  {
   "cell_type": "code",
   "execution_count": 14,
   "metadata": {},
   "outputs": [
    {
     "name": "stdout",
     "output_type": "stream",
     "text": [
      "Area roc na base de teste é igual a:  0.93\n"
     ]
    }
   ],
   "source": [
    "AUC = mt.roc_auc_score(X_test['y'],  X_test[\"Score\"])\n",
    "print(\"Area roc na base de teste é igual a: \",round(AUC,2))"
   ]
  },
  {
   "cell_type": "code",
   "execution_count": 15,
   "metadata": {},
   "outputs": [
    {
     "name": "stdout",
     "output_type": "stream",
     "text": [
      "KS na base de teste é igual a: 0.73\n"
     ]
    }
   ],
   "source": [
    "ks = ks_2samp(df_label.Score,df_X.Score)\n",
    "print(\"KS na base de teste é igual a:\",round(ks[0],2))"
   ]
  },
  {
   "cell_type": "code",
   "execution_count": 16,
   "metadata": {},
   "outputs": [
    {
     "data": {
      "image/png": "[encoded data removed]",
      "text/plain": [
       "<Figure size 432x288 with 1 Axes>"
      ]
     },
     "metadata": {
      "needs_background": "light"
     },
     "output_type": "display_data"
    }
   ],
   "source": [
    "ax = sns.boxplot(x=\"y\", y=\"Score\", data=df_label, order = [0,1],color = \"blue\")\n",
    "ax = sns.boxplot(x=\"y\", y=\"Score\", data=df_X,order = [0,1],color = \"red\")"
   ]
  },
  {
   "cell_type": "code",
   "execution_count": 17,
   "metadata": {},
   "outputs": [
    {
     "data": {
      "text/plain": [
       "<matplotlib.axes._subplots.AxesSubplot at 0x1f9670e1d30>"
      ]
     },
     "execution_count": 17,
     "metadata": {},
     "output_type": "execute_result"
    },
    {
     "data": {
      "image/png": "[encoded data removed]",
      "text/plain": [
       "<Figure size 432x288 with 1 Axes>"
      ]
     },
     "metadata": {
      "needs_background": "light"
     },
     "output_type": "display_data"
    }
   ],
   "source": [
    "sns.distplot(dataset[\"Score\"], hist = False, kde = True,\n",
    "                 kde_kws = {'shade': True, 'linewidth': 1}, \n",
    "                  label = \"Captado\")\n",
    "\n",
    "sns.distplot((df_X.Score), hist = False, kde = True,\n",
    "                 kde_kws = {'shade': True, 'linewidth': 1}, \n",
    "                  label = \"Não Captado\")"
   ]
  },
  {
   "cell_type": "code",
   "execution_count": null,
   "metadata": {},
   "outputs": [],
   "source": []
  },
  {
   "cell_type": "code",
   "execution_count": null,
   "metadata": {},
   "outputs": [],
   "source": []
  },
  {
   "cell_type": "code",
   "execution_count": 18,
   "metadata": {},
   "outputs": [
    {
     "data": {
      "image/png": "[encoded data removed]",
      "text/plain": [
       "<Figure size 432x288 with 1 Axes>"
      ]
     },
     "metadata": {
      "needs_background": "light"
     },
     "output_type": "display_data"
    }
   ],
   "source": [
    "y_test = X_test['y']\n",
    "y_proba_predicted = X_test['Score']\n",
    "\n",
    "\n",
    "precision, recall, thresholds = precision_recall_curve(y_test, y_proba_predicted)\n",
    "avg_precision = average_precision_score(y_test, y_proba_predicted)\n",
    "\n",
    "step_kwargs = ({'step': 'post'}\n",
    "                   if 'step' in signature(plt.fill_between).parameters\n",
    "                   else {})\n",
    "plt.step(recall, precision, color='b', alpha=0.2,\n",
    "             where='post', label = 'Precision-Recall AUC = %0.4f' % avg_precision)\n",
    "plt.fill_between(recall, precision, alpha=0.2, color='b', **step_kwargs)\n",
    "plt.legend(loc = 1)\n",
    "plt.xlabel('Recall')\n",
    "plt.ylabel('Precision')\n",
    "plt.ylim([0.0, 1.05])\n",
    "plt.xlim([0.0, 1.0])\n",
    "plt.title('Precision Recall Curve')\n",
    "plt.show()"
   ]
  },
  {
   "cell_type": "code",
   "execution_count": 19,
   "metadata": {},
   "outputs": [
    {
     "data": {
      "image/png": "[encoded data removed]",
      "text/plain": [
       "<Figure size 432x288 with 1 Axes>"
      ]
     },
     "metadata": {
      "needs_background": "light"
     },
     "output_type": "display_data"
    }
   ],
   "source": [
    " # Plot AUC Curve\n",
    "\n",
    "fpr, tpr, threshold = roc_curve(y_test, y_proba_predicted)\n",
    "roc_auc = auc(fpr, tpr)\n",
    "\n",
    "plt.title('Receiver Operating Characteristic (ROC) Curve ')\n",
    "plt.plot(fpr, tpr, color='darkorange', label = 'ROC AUC = %0.4f' % roc_auc)\n",
    "plt.legend(loc = 'lower right')\n",
    "plt.plot([0, 1], [0, 1], color='navy', lw=2, linestyle='--')\n",
    "plt.xlim([-0.01, 1])\n",
    "plt.ylim([0, 1.05])\n",
    "plt.ylabel('True Positive Rate')\n",
    "plt.xlabel('False Positive Rate')\n",
    "plt.show()\n"
   ]
  },
  {
   "cell_type": "code",
   "execution_count": 20,
   "metadata": {},
   "outputs": [],
   "source": [
    "\n",
    "def plot_confusion_matrix(y_test, y_proba_predicted, threshold):\n",
    "    \"\"\"\n",
    "    Plot confusion matrix for a given values of y_test, y_proba_predicted, and threshold\n",
    "    \"\"\"\n",
    "    cm = confusion_matrix(y_test, (y_proba_predicted > threshold).astype(int))\n",
    "    classes = ['N', 'S']\n",
    "\n",
    "    plt.imshow(cm, interpolation='nearest', cmap=plt.cm.Blues)\n",
    "    plt.title('Confusion matrix')\n",
    "    tick_marks = np.arange(len(classes))\n",
    "    plt.xticks(tick_marks, classes)\n",
    "    plt.yticks(tick_marks, classes)\n",
    "\n",
    "    thresh = cm.max() / 2.\n",
    "    for i, j in itertools.product(range(cm.shape[0]), range(cm.shape[1])):\n",
    "        plt.text(j, i, format(cm[i, j], 'd'),\n",
    "                 horizontalalignment=\"center\",\n",
    "                 color=\"white\" if cm[i, j] > thresh else \"black\")\n",
    "\n",
    "    plt.ylabel('True label')\n",
    "    plt.xlabel('Predicted label')\n",
    "    plt.tight_layout()\n",
    "    plt.show()"
   ]
  },
  {
   "cell_type": "code",
   "execution_count": 21,
   "metadata": {},
   "outputs": [
    {
     "name": "stdout",
     "output_type": "stream",
     "text": [
      "\n",
      "Focus on high recall\n",
      "\n",
      "Threshold: 0.328\n",
      "Precision: 0.3461\n",
      "Recall: 0.9495\n"
     ]
    }
   ],
   "source": [
    "\n",
    "# Find precision and threshold for 0.95 recall\n",
    "print('\\nFocus on high recall\\n')\n",
    "idx = np.argmax(recall<0.95)\n",
    "threshold = thresholds[idx]\n",
    "print('Threshold:', np.round(threshold, 3))\n",
    "print('Precision:', np.round(precision[idx],4))\n",
    "print('Recall:', np.round(recall[idx], 4))"
   ]
  },
  {
   "cell_type": "code",
   "execution_count": 22,
   "metadata": {},
   "outputs": [
    {
     "data": {
      "image/png": "[encoded data removed]",
      "text/plain": [
       "<Figure size 432x288 with 1 Axes>"
      ]
     },
     "metadata": {
      "needs_background": "light"
     },
     "output_type": "display_data"
    }
   ],
   "source": [
    "plot_confusion_matrix(y_test, y_proba_predicted,threshold)"
   ]
  },
  {
   "cell_type": "code",
   "execution_count": 23,
   "metadata": {},
   "outputs": [
    {
     "name": "stdout",
     "output_type": "stream",
     "text": [
      "\n",
      "Focus on high precision\n",
      "\n",
      "Threshold: 0.688\n",
      "Precision: 0.5002\n",
      "Recall: 0.7858\n"
     ]
    },
    {
     "data": {
      "image/png": "[encoded data removed]",
      "text/plain": [
       "<Figure size 432x288 with 1 Axes>"
      ]
     },
     "metadata": {
      "needs_background": "light"
     },
     "output_type": "display_data"
    }
   ],
   "source": [
    "print('\\nFocus on high precision\\n')\n",
    "idx = np.argmax(precision>0.5)\n",
    "threshold = thresholds[idx]\n",
    "print('Threshold:', np.round(threshold, 3))\n",
    "print('Precision:', np.round(precision[idx],4))\n",
    "print('Recall:', np.round(recall[idx], 4))\n",
    "    \n",
    "plot_confusion_matrix(y_test, y_proba_predicted, threshold)"
   ]
  },
  {
   "cell_type": "code",
   "execution_count": 24,
   "metadata": {},
   "outputs": [],
   "source": [
    "## Features Importance"
   ]
  },
  {
   "cell_type": "code",
   "execution_count": 25,
   "metadata": {},
   "outputs": [
    {
     "data": {
      "text/plain": [
       "<matplotlib.axes._subplots.AxesSubplot at 0x1f967301160>"
      ]
     },
     "execution_count": 25,
     "metadata": {},
     "output_type": "execute_result"
    },
    {
     "data": {
      "image/png": "[encoded data removed]",
      "text/plain": [
       "<Figure size 432x288 with 1 Axes>"
      ]
     },
     "metadata": {
      "needs_background": "light"
     },
     "output_type": "display_data"
    }
   ],
   "source": [
    "# plot feature importance\n",
    "plot_importance(clf.best_estimator_)"
   ]
  },
  {
   "cell_type": "code",
   "execution_count": 26,
   "metadata": {},
   "outputs": [
    {
     "data": {
      "text/html": [
       "<div>\n",
       "<style scoped>\n",
       "    .dataframe tbody tr th:only-of-type {\n",
       "        vertical-align: middle;\n",
       "    }\n",
       "\n",
       "    .dataframe tbody tr th {\n",
       "        vertical-align: top;\n",
       "    }\n",
       "\n",
       "    .dataframe thead th {\n",
       "        text-align: right;\n",
       "    }\n",
       "</style>\n",
       "<table border=\"1\" class=\"dataframe\">\n",
       "  <thead>\n",
       "    <tr style=\"text-align: right;\">\n",
       "      <th></th>\n",
       "      <th>costumer_ID</th>\n",
       "      <th>Score</th>\n",
       "    </tr>\n",
       "  </thead>\n",
       "  <tbody>\n",
       "    <tr>\n",
       "      <th>21412</th>\n",
       "      <td>24533</td>\n",
       "      <td>0.029232</td>\n",
       "    </tr>\n",
       "    <tr>\n",
       "      <th>2354</th>\n",
       "      <td>2355</td>\n",
       "      <td>0.024628</td>\n",
       "    </tr>\n",
       "    <tr>\n",
       "      <th>42173</th>\n",
       "      <td>42174</td>\n",
       "      <td>0.453597</td>\n",
       "    </tr>\n",
       "    <tr>\n",
       "      <th>23695</th>\n",
       "      <td>14336</td>\n",
       "      <td>0.813753</td>\n",
       "    </tr>\n",
       "    <tr>\n",
       "      <th>1278</th>\n",
       "      <td>1279</td>\n",
       "      <td>0.020432</td>\n",
       "    </tr>\n",
       "    <tr>\n",
       "      <th>4987</th>\n",
       "      <td>29948</td>\n",
       "      <td>0.089383</td>\n",
       "    </tr>\n",
       "    <tr>\n",
       "      <th>13845</th>\n",
       "      <td>26735</td>\n",
       "      <td>0.371362</td>\n",
       "    </tr>\n",
       "    <tr>\n",
       "      <th>20932</th>\n",
       "      <td>24053</td>\n",
       "      <td>0.804476</td>\n",
       "    </tr>\n",
       "    <tr>\n",
       "      <th>4913</th>\n",
       "      <td>29874</td>\n",
       "      <td>0.049099</td>\n",
       "    </tr>\n",
       "    <tr>\n",
       "      <th>43160</th>\n",
       "      <td>43161</td>\n",
       "      <td>0.935919</td>\n",
       "    </tr>\n",
       "  </tbody>\n",
       "</table>\n",
       "</div>"
      ],
      "text/plain": [
       "      costumer_ID     Score\n",
       "21412       24533  0.029232\n",
       "2354         2355  0.024628\n",
       "42173       42174  0.453597\n",
       "23695       14336  0.813753\n",
       "1278         1279  0.020432\n",
       "4987        29948  0.089383\n",
       "13845       26735  0.371362\n",
       "20932       24053  0.804476\n",
       "4913        29874  0.049099\n",
       "43160       43161  0.935919"
      ]
     },
     "execution_count": 26,
     "metadata": {},
     "output_type": "execute_result"
    }
   ],
   "source": [
    "print_f = [\"costumer_ID\",\"Score\"]\n",
    "pd.DataFrame(X_test[print_f]).head(10)"
   ]
  },
  {
   "cell_type": "code",
   "execution_count": 27,
   "metadata": {},
   "outputs": [],
   "source": [
    "connect = connection\n",
    "\n",
    "cursor_log = connect.cursor()\n",
    "\n",
    "#    cursor_log.fast_executemany = True\n",
    "    \n",
    "f = [\"costumer_ID\",\"Score\",\"y\"]\n",
    "\n",
    "sql_query = \"\"\"INSERT base_scorada\n",
    "                    (costomer_ID,\n",
    "                      Score,\n",
    "                      y\n",
    "                      ) \n",
    "                    values(?,?,?)\"\"\"\n",
    "                    \n",
    " \n",
    "cursor_log.executemany(sql_query,(pd.DataFrame(X_test[f])).values.tolist())\n",
    "cursor_log.commit()\n",
    "cursor_log.close()"
   ]
  }
 ],
 "metadata": {
  "kernelspec": {
   "display_name": "Python 3",
   "language": "python",
   "name": "python3"
  },
  "language_info": {
   "codemirror_mode": {
    "name": "ipython",
    "version": 3
   },
   "file_extension": ".py",
   "mimetype": "text/x-python",
   "name": "python",
   "nbconvert_exporter": "python",
   "pygments_lexer": "ipython3",
   "version": "3.7.3"
  }
 },
 "nbformat": 4,
 "nbformat_minor": 2
}
